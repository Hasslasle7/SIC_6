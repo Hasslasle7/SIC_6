{
  "nbformat": 4,
  "nbformat_minor": 0,
  "metadata": {
    "kernelspec": {
      "display_name": "Python 3",
      "language": "python",
      "name": "python3"
    },
    "language_info": {
      "codemirror_mode": {
        "name": "ipython",
        "version": 3
      },
      "file_extension": ".py",
      "mimetype": "text/x-python",
      "name": "python",
      "nbconvert_exporter": "python",
      "pygments_lexer": "ipython3",
      "version": "3.7.3"
    },
    "colab": {
      "name": "problem_0502.ipynb",
      "provenance": []
    }
  },
  "cells": [
    {
      "cell_type": "markdown",
      "metadata": {
        "id": "gc0c_QDyz9la"
      },
      "source": [
        "## Quiz #0502"
      ]
    },
    {
      "cell_type": "markdown",
      "metadata": {
        "id": "gg5-Q7hwz9lc"
      },
      "source": [
        "### \"Human Activity Recognition\" "
      ]
    },
    {
      "cell_type": "markdown",
      "metadata": {
        "id": "AK-HfZSVz9ld"
      },
      "source": [
        "#### Answer the following questions by providing Python code:\n",
        "#### Objectives:\n",
        "- Carry out the EDA.\n",
        "- Carry out the data pre-processing.\n",
        "- Optimize and test a predictive model of your choice."
      ]
    },
    {
      "cell_type": "code",
      "metadata": {
        "id": "09KTmndGz9ld"
      },
      "source": [
        "import numpy as np\n",
        "import pandas as pd\n",
        "import matplotlib.pyplot as plt\n",
        "import seaborn as sns\n",
        "import os\n",
        "import warnings\n",
        "from sklearn.model_selection import train_test_split, GridSearchCV\n",
        "from sklearn.neighbors import KNeighborsClassifier\n",
        "from sklearn.tree import DecisionTreeClassifier\n",
        "from sklearn.ensemble import RandomForestClassifier,AdaBoostClassifier, GradientBoostingClassifier\n",
        "from xgboost import XGBClassifier\n",
        "from sklearn import metrics, preprocessing\n",
        "warnings.filterwarnings(action='ignore')                  # Turn off the warnings.\n",
        "%matplotlib inline"
      ],
      "execution_count": null,
      "outputs": []
    },
    {
      "cell_type": "markdown",
      "metadata": {
        "id": "uqIxoAEXz9le"
      },
      "source": [
        "#### Read in data:\n",
        "The explanation on the dataset can be found [here](https://archive.ics.uci.edu/ml/datasets/human+activity+recognition+using+smartphones)."
      ]
    },
    {
      "cell_type": "code",
      "metadata": {
        "id": "T4HTIdmuz9le"
      },
      "source": [
        "# Go to the directory where the data file is located. \n",
        "# os.chdir(r'~~')                # Please, replace the path with your own. "
      ],
      "execution_count": null,
      "outputs": []
    },
    {
      "cell_type": "code",
      "metadata": {
        "id": "q9I9VS7Kz9lf"
      },
      "source": [
        "df = pd.read_csv('data_human activity recognition.csv', header='infer')"
      ],
      "execution_count": null,
      "outputs": []
    },
    {
      "cell_type": "code",
      "metadata": {
        "id": "NYfBecxSz9lf"
      },
      "source": [
        "df.shape"
      ],
      "execution_count": null,
      "outputs": []
    },
    {
      "cell_type": "code",
      "metadata": {
        "id": "vb5_SYjjz9lf"
      },
      "source": [
        "df.columns"
      ],
      "execution_count": null,
      "outputs": []
    },
    {
      "cell_type": "markdown",
      "metadata": {
        "id": "lINfia61z9lf"
      },
      "source": [
        "1). Carry out the EDA. Check for the missing values. HINT: The response variable is 'classe'."
      ]
    },
    {
      "cell_type": "code",
      "metadata": {
        "id": "qW8fLXl6z9lf"
      },
      "source": [
        "       # <Your code goes in here>"
      ],
      "execution_count": null,
      "outputs": []
    },
    {
      "cell_type": "markdown",
      "metadata": {
        "id": "Nt97aqnfz9lg"
      },
      "source": [
        "2). Get rid of the columns that have more than 97% missing values."
      ]
    },
    {
      "cell_type": "code",
      "metadata": {
        "id": "RzdReEJdz9lg"
      },
      "source": [
        "       # <Your code goes in here>"
      ],
      "execution_count": null,
      "outputs": []
    },
    {
      "cell_type": "markdown",
      "metadata": {
        "id": "6buNE_iLz9lg"
      },
      "source": [
        "3). Get rid of the unnecessary columns. HINT: Those columns with \"time\" in the name and those that are obviously unnecessary."
      ]
    },
    {
      "cell_type": "code",
      "metadata": {
        "id": "mqxZ4VpHz9lg"
      },
      "source": [
        "       # <Your code goes in here>"
      ],
      "execution_count": null,
      "outputs": []
    },
    {
      "cell_type": "markdown",
      "metadata": {
        "id": "pPrtMUQFz9lg"
      },
      "source": [
        "4). Label encode the responde variable. HINT: use preprocessing.LabelEncoder(). "
      ]
    },
    {
      "cell_type": "code",
      "metadata": {
        "id": "A6ia2EiLz9lg"
      },
      "source": [
        "       # <Your code goes in here>"
      ],
      "execution_count": null,
      "outputs": []
    },
    {
      "cell_type": "markdown",
      "metadata": {
        "id": "VXzVfW5dz9lh"
      },
      "source": [
        "5). Carry out min-max scaling of the exploratory variables. HINT: use preprocessing.MinMaxScaler()."
      ]
    },
    {
      "cell_type": "code",
      "metadata": {
        "id": "2qjhdLTUz9lh"
      },
      "source": [
        "       # <Your code goes in here>"
      ],
      "execution_count": null,
      "outputs": []
    },
    {
      "cell_type": "markdown",
      "metadata": {
        "id": "wa_PK9C5z9lh"
      },
      "source": [
        "6). Choose an algorithm and carry out the predictive analysis.\n",
        "\n",
        "- Optimize the hyperparameter(s)\n",
        "- Calculate the accuracy.\n",
        "- Aim for upper 90% accuracy."
      ]
    },
    {
      "cell_type": "code",
      "metadata": {
        "id": "1dS0Ekmdz9lh"
      },
      "source": [
        "       # <Your code goes in here>"
      ],
      "execution_count": null,
      "outputs": []
    }
  ]
}