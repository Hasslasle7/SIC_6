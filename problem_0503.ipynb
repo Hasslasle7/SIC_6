{
  "nbformat": 4,
  "nbformat_minor": 0,
  "metadata": {
    "kernelspec": {
      "display_name": "Python 3",
      "language": "python",
      "name": "python3"
    },
    "language_info": {
      "codemirror_mode": {
        "name": "ipython",
        "version": 3
      },
      "file_extension": ".py",
      "mimetype": "text/x-python",
      "name": "python",
      "nbconvert_exporter": "python",
      "pygments_lexer": "ipython3",
      "version": "3.7.3"
    },
    "colab": {
      "name": "problem_0503.ipynb",
      "provenance": [],
      "collapsed_sections": []
    }
  },
  "cells": [
    {
      "cell_type": "markdown",
      "metadata": {
        "id": "MOUkRZESz-tH"
      },
      "source": [
        "## Quiz #0503"
      ]
    },
    {
      "cell_type": "markdown",
      "metadata": {
        "id": "mlD7loyyz-tI"
      },
      "source": [
        "### \"Data Augmentation\""
      ]
    },
    {
      "cell_type": "markdown",
      "metadata": {
        "id": "HKJzS3KRz-tI"
      },
      "source": [
        "#### Answer the following questions by providing Python code:\n",
        "#### Objectives:\n",
        "- Code the helper functions.\n",
        "- Optimize and test a predictive model of your choice.\n",
        "- Carry out data aumentation in order to improve the predictive accuracy when the given training data is small."
      ]
    },
    {
      "cell_type": "code",
      "metadata": {
        "id": "6olK6H2tz-tJ"
      },
      "source": [
        "import numpy as np\n",
        "import pandas as pd\n",
        "import os\n",
        "import warnings\n",
        "import matplotlib.pyplot as plt\n",
        "from sklearn.model_selection import GridSearchCV\n",
        "from sklearn.neighbors import KNeighborsClassifier\n",
        "from sklearn.tree import DecisionTreeClassifier\n",
        "from sklearn.ensemble import RandomForestClassifier,AdaBoostClassifier, GradientBoostingClassifier\n",
        "from xgboost import XGBClassifier\n",
        "from sklearn import metrics, preprocessing\n",
        "from scipy.ndimage.interpolation import rotate\n",
        "warnings.filterwarnings(action='ignore')                  # Turn off the warnings.\n",
        "%matplotlib inline"
      ],
      "execution_count": 1,
      "outputs": []
    },
    {
      "cell_type": "markdown",
      "metadata": {
        "id": "vEBKVWKdz-tJ"
      },
      "source": [
        "#### Read in data:\n",
        "The explanation on the original data can be found [here](http://yann.lecun.com/exdb/mnist/).\n",
        "\n",
        "- The data we will be using is a small subset of the original data with only 100 observations.\n",
        "- Each observation is the \"flattened\" version of a image.\n",
        "- The first column corresponds to the label (Y).\n",
        "- The image size is 28x28."
      ]
    },
    {
      "cell_type": "code",
      "metadata": {
        "id": "AyFnA81Gz-tK"
      },
      "source": [
        "# Read the training and testing data separately.\n",
        "data_train = pd.read_csv('data_mnist_train_100.csv', header=None,encoding='latin1')\n",
        "data_test = pd.read_csv('data_mnist_test_100.csv', header=None,encoding='latin1')\n",
        "\n",
        "# Scale and split the data set into X and Y.\n",
        "X_train = np.array((data_train.iloc[:,1:]/255.0)*0.99+0.01)\n",
        "X_test = np.array((data_test.iloc[:,1:]/255.0)*0.99+0.01)\n",
        "Y_train = np.array(data_train.iloc[:,0])\n",
        "Y_test = np.array(data_test.iloc[:,0])"
      ],
      "execution_count": 3,
      "outputs": []
    },
    {
      "cell_type": "markdown",
      "metadata": {
        "id": "jwEfPLp9z-tK"
      },
      "source": [
        "1). The helper function 'show_data()' visualizes each given observation."
      ]
    },
    {
      "cell_type": "code",
      "metadata": {
        "id": "x-uT3P6Az-tL"
      },
      "source": [
        "def show_data(X, Y, n, angle=0):\n",
        "    image_matrix = X[n,:].reshape((28,28))\n",
        "    image_matrix = rotate(image_matrix, angle, cval=0.01, reshape=False)\n",
        "    imax = image_matrix.max()\n",
        "    imin = image_matrix.min()\n",
        "    image_matrix = ((image_matrix-imin)/(imax-imin))*0.99+0.01\n",
        "    plt.imshow(image_matrix, cmap='Greys',interpolation='None')\n",
        "    print(Y[n])"
      ],
      "execution_count": 4,
      "outputs": []
    },
    {
      "cell_type": "code",
      "metadata": {
        "id": "eQkLmS60z-tL",
        "colab": {
          "base_uri": "https://localhost:8080/",
          "height": 283
        },
        "outputId": "0e318043-fdd5-4697-f681-a187872fb909"
      },
      "source": [
        "# Example 1.\n",
        "show_data(X_train, Y_train,10,10)"
      ],
      "execution_count": 168,
      "outputs": [
        {
          "output_type": "stream",
          "text": [
            "3\n"
          ],
          "name": "stdout"
        },
        {
          "output_type": "display_data",
          "data": {
            "image/png": "[encoded data removed]",
            "text/plain": [
              "<Figure size 432x288 with 1 Axes>"
            ]
          },
          "metadata": {
            "needs_background": "light"
          }
        }
      ]
    },
    {
      "cell_type": "code",
      "metadata": {
        "id": "ABtyPR43z-tM",
        "colab": {
          "base_uri": "https://localhost:8080/",
          "height": 283
        },
        "outputId": "9e4a3f9d-0968-488d-88eb-d5dd637af310"
      },
      "source": [
        "# Example 2.\n",
        "show_data(X_train, Y_train,10,-30)"
      ],
      "execution_count": 6,
      "outputs": [
        {
          "output_type": "stream",
          "text": [
            "3\n"
          ],
          "name": "stdout"
        },
        {
          "output_type": "display_data",
          "data": {
            "image/png": "[encoded data removed]",
            "text/plain": [
              "<Figure size 432x288 with 1 Axes>"
            ]
          },
          "metadata": {
            "needs_background": "light"
          }
        }
      ]
    },
    {
      "cell_type": "code",
      "metadata": {
        "id": "_j3jYxjjz-tN",
        "colab": {
          "base_uri": "https://localhost:8080/",
          "height": 283
        },
        "outputId": "de1cca80-45fa-4b9a-c7bc-f5a0f09e5e4b"
      },
      "source": [
        "# Example 3.\n",
        "show_data(X_train, Y_train,77,0)"
      ],
      "execution_count": 7,
      "outputs": [
        {
          "output_type": "stream",
          "text": [
            "1\n"
          ],
          "name": "stdout"
        },
        {
          "output_type": "display_data",
          "data": {
            "image/png": "[encoded data removed]",
            "text/plain": [
              "<Figure size 432x288 with 1 Axes>"
            ]
          },
          "metadata": {
            "needs_background": "light"
          }
        }
      ]
    },
    {
      "cell_type": "markdown",
      "metadata": {
        "id": "H_nAtEYEz-tN"
      },
      "source": [
        "2). Choose an algorithm and carry out the predictive analysis.\n",
        "\n",
        "- Optimize the hyperparameter(s).\n",
        "- Calculate the accuracy.\n",
        "- Is the accuracy high enough?"
      ]
    },
    {
      "cell_type": "code",
      "metadata": {
        "id": "eQDESSV6z-tO",
        "colab": {
          "base_uri": "https://localhost:8080/"
        },
        "outputId": "a7375b32-6a9d-46c6-bba5-3bffd4e666ae"
      },
      "source": [
        "       # <Your code goes in here>\n",
        "import tensorflow as tf\n",
        "\n",
        "# Define model\n",
        "model = tf.keras.Sequential([\n",
        "    tf.keras.layers.Input(shape=(784,)),\n",
        "    tf.keras.layers.Dense(512, activation='relu'),\n",
        "    tf.keras.layers.Dense(10)\n",
        "])\n",
        "\n",
        "# Compile Model\n",
        "model.compile(optimizer='adam',\n",
        "              loss=tf.keras.losses.SparseCategoricalCrossentropy(from_logits=True),\n",
        "              metrics=['accuracy'])\n",
        "\n",
        "# Fit model\n",
        "model.fit(X_train, Y_train, epochs=20)\n",
        "\n",
        "test_loss, test_acc = model.evaluate(X_test,Y_test, verbose=2)\n",
        "\n",
        "print('\\nTest accuracy:', test_acc)"
      ],
      "execution_count": 24,
      "outputs": [
        {
          "output_type": "stream",
          "text": [
            "Epoch 1/20\n",
            "4/4 [==============================] - 0s 7ms/step - loss: 2.1722 - accuracy: 0.2700\n",
            "Epoch 2/20\n",
            "4/4 [==============================] - 0s 7ms/step - loss: 1.3349 - accuracy: 0.8000\n",
            "Epoch 3/20\n",
            "4/4 [==============================] - 0s 6ms/step - loss: 0.8909 - accuracy: 0.9100\n",
            "Epoch 4/20\n",
            "4/4 [==============================] - 0s 7ms/step - loss: 0.5980 - accuracy: 0.9800\n",
            "Epoch 5/20\n",
            "4/4 [==============================] - 0s 10ms/step - loss: 0.3918 - accuracy: 0.9900\n",
            "Epoch 6/20\n",
            "4/4 [==============================] - 0s 7ms/step - loss: 0.2564 - accuracy: 0.9900\n",
            "Epoch 7/20\n",
            "4/4 [==============================] - 0s 10ms/step - loss: 0.1828 - accuracy: 1.0000\n",
            "Epoch 8/20\n",
            "4/4 [==============================] - 0s 7ms/step - loss: 0.1306 - accuracy: 1.0000\n",
            "Epoch 9/20\n",
            "4/4 [==============================] - 0s 8ms/step - loss: 0.0916 - accuracy: 1.0000\n",
            "Epoch 10/20\n",
            "4/4 [==============================] - 0s 7ms/step - loss: 0.0689 - accuracy: 1.0000\n",
            "Epoch 11/20\n",
            "4/4 [==============================] - 0s 6ms/step - loss: 0.0540 - accuracy: 1.0000\n",
            "Epoch 12/20\n",
            "4/4 [==============================] - 0s 7ms/step - loss: 0.0443 - accuracy: 1.0000\n",
            "Epoch 13/20\n",
            "4/4 [==============================] - 0s 6ms/step - loss: 0.0360 - accuracy: 1.0000\n",
            "Epoch 14/20\n",
            "4/4 [==============================] - 0s 6ms/step - loss: 0.0290 - accuracy: 1.0000\n",
            "Epoch 15/20\n",
            "4/4 [==============================] - 0s 6ms/step - loss: 0.0251 - accuracy: 1.0000\n",
            "Epoch 16/20\n",
            "4/4 [==============================] - 0s 7ms/step - loss: 0.0222 - accuracy: 1.0000\n",
            "Epoch 17/20\n",
            "4/4 [==============================] - 0s 7ms/step - loss: 0.0199 - accuracy: 1.0000\n",
            "Epoch 18/20\n",
            "4/4 [==============================] - 0s 6ms/step - loss: 0.0174 - accuracy: 1.0000\n",
            "Epoch 19/20\n",
            "4/4 [==============================] - 0s 7ms/step - loss: 0.0151 - accuracy: 1.0000\n",
            "Epoch 20/20\n",
            "4/4 [==============================] - 0s 7ms/step - loss: 0.0132 - accuracy: 1.0000\n",
            "4/4 - 0s - loss: 0.8847 - accuracy: 0.7100\n",
            "\n",
            "Test accuracy: 0.7099999785423279\n"
          ],
          "name": "stdout"
        }
      ]
    },
    {
      "cell_type": "markdown",
      "metadata": {
        "id": "iHCvLNUntZHd"
      },
      "source": [
        "the accuracy is 0.7 which is not enough "
      ]
    },
    {
      "cell_type": "markdown",
      "metadata": {
        "id": "e98uw0eFz-tO"
      },
      "source": [
        "3). Code the helper function 'rotate_data()' that rotates each given observation by an angle. HINT: use scipy.ndimage.interpolation()."
      ]
    },
    {
      "cell_type": "code",
      "metadata": {
        "id": "sPiUfz81z-tP"
      },
      "source": [
        "       # <Your code goes in here>\n",
        "def rotate_data(X , angle):\n",
        "  img = X.reshape((28,28))\n",
        "  img_rotate = rotate(img, angle, reshape=False)\n",
        "  return img_rotate.reshape([-1])\n"
      ],
      "execution_count": 205,
      "outputs": []
    },
    {
      "cell_type": "markdown",
      "metadata": {
        "id": "W3_RkrUEz-tP"
      },
      "source": [
        "4). Augment the training dataset.\n",
        "- Increase the size of the training dataset by introducing slight rotations (clockwise and counterclockwise).\n",
        "- Use the 'rotate_data()' function defined in the previous step.\n",
        "- No need to augment the testing dataset.\n",
        "- Target approximately five fold aumentation."
      ]
    },
    {
      "cell_type": "code",
      "metadata": {
        "colab": {
          "base_uri": "https://localhost:8080/",
          "height": 283
        },
        "id": "fbvGfYj4QdSQ",
        "outputId": "63d13ed5-b3f0-4fba-9690-165cd8760fbf"
      },
      "source": [
        "image_matrix = X_train[1,:].reshape((28,28))\n",
        "image_matrix = rotate(image_matrix, 10, cval=0.01, reshape=False)\n",
        "imax = image_matrix.max()\n",
        "imin = image_matrix.min()\n",
        "image_matrix = ((image_matrix-imin)/(imax-imin))*0.99+0.01\n",
        "plt.imshow(image_matrix, cmap='Greys',interpolation='None')\n",
        "print(Y_train[1])"
      ],
      "execution_count": 194,
      "outputs": [
        {
          "output_type": "stream",
          "text": [
            "0\n"
          ],
          "name": "stdout"
        },
        {
          "output_type": "display_data",
          "data": {
            "image/png": "[encoded data removed]",
            "text/plain": [
              "<Figure size 432x288 with 1 Axes>"
            ]
          },
          "metadata": {
            "needs_background": "light"
          }
        }
      ]
    },
    {
      "cell_type": "code",
      "metadata": {
        "colab": {
          "base_uri": "https://localhost:8080/",
          "height": 283
        },
        "id": "GQvsp655UizX",
        "outputId": "b6d11c04-97cb-4406-e080-140697bcfeba"
      },
      "source": [
        "z=rotate_data(X_train[1,:],30)\n",
        "image_matrix = z.reshape((28,28))\n",
        "image_matrix = rotate(image_matrix, 10, cval=0.01, reshape=False)\n",
        "imax = image_matrix.max()\n",
        "imin = image_matrix.min()\n",
        "image_matrix = ((image_matrix-imin)/(imax-imin))*0.99+0.01\n",
        "plt.imshow(image_matrix, cmap='Greys',interpolation='None')\n",
        "print(Y_train[1])"
      ],
      "execution_count": 206,
      "outputs": [
        {
          "output_type": "stream",
          "text": [
            "0\n"
          ],
          "name": "stdout"
        },
        {
          "output_type": "display_data",
          "data": {
            "image/png": "[encoded data removed]",
            "text/plain": [
              "<Figure size 432x288 with 1 Axes>"
            ]
          },
          "metadata": {
            "needs_background": "light"
          }
        }
      ]
    },
    {
      "cell_type": "code",
      "metadata": {
        "colab": {
          "base_uri": "https://localhost:8080/"
        },
        "id": "kN5PZz4VVOQM",
        "outputId": "4bd1da97-5341-4597-f30c-e9d779dd4921"
      },
      "source": [
        "z.shape"
      ],
      "execution_count": 208,
      "outputs": [
        {
          "output_type": "execute_result",
          "data": {
            "text/plain": [
              "(784,)"
            ]
          },
          "metadata": {},
          "execution_count": 208
        }
      ]
    },
    {
      "cell_type": "code",
      "metadata": {
        "id": "1eZ_94wUz-tP"
      },
      "source": [
        "X_train_augmented = [image for image in X_train]\n",
        "Y_train_augmented = [image for image in Y_train]\n",
        "\n",
        "\n",
        "for image, label in zip(X_train, Y_train):\n",
        "  X_train_augmented.append(rotate_data(image,15))\n",
        "  X_train_augmented.append(rotate_data(image,-15))\n",
        "  Y_train_augmented.append(label)\n",
        "  Y_train_augmented.append(label)\n",
        "X_train_augmented = np.array(X_train_augmented)\n",
        "Y_train_augmented = np.array(Y_train_augmented)"
      ],
      "execution_count": 223,
      "outputs": []
    },
    {
      "cell_type": "code",
      "metadata": {
        "colab": {
          "base_uri": "https://localhost:8080/"
        },
        "id": "SDnIo9usREwH",
        "outputId": "6d7f84b5-de4a-483e-cf47-a48ab2213396"
      },
      "source": [
        "Y_train_augmented.shape"
      ],
      "execution_count": 225,
      "outputs": [
        {
          "output_type": "execute_result",
          "data": {
            "text/plain": [
              "(300,)"
            ]
          },
          "metadata": {},
          "execution_count": 225
        }
      ]
    },
    {
      "cell_type": "markdown",
      "metadata": {
        "id": "_31O-zsVz-tQ"
      },
      "source": [
        "5). Redo the predictive analysis with the augmented training dataset.\n",
        "\n",
        "- Use the same algorithm as in the step 2).\n",
        "- Calculate the accuracy.\n",
        "- Has the accuracy gone up?"
      ]
    },
    {
      "cell_type": "code",
      "metadata": {
        "id": "oNxo91o1z-tQ",
        "colab": {
          "base_uri": "https://localhost:8080/"
        },
        "outputId": "379a4b86-857f-4cbe-ce35-445aeeb0d3a9"
      },
      "source": [
        "       # <Your code goes in here>\n",
        "model = tf.keras.Sequential([\n",
        "    tf.keras.layers.Input(shape=(784,)),\n",
        "    tf.keras.layers.Dense(512, activation='relu'),\n",
        "    tf.keras.layers.Dense(10)\n",
        "])\n",
        "\n",
        "# Compile Model\n",
        "model.compile(optimizer='adam',\n",
        "              loss=tf.keras.losses.SparseCategoricalCrossentropy(from_logits=True),\n",
        "              metrics=['accuracy'])\n",
        "\n",
        "# Fit model\n",
        "\n",
        "model.fit(X_train_augmented, Y_train_augmented, epochs=20)\n",
        "\n",
        "test_loss, test_acc = model.evaluate(X_test,Y_test, verbose=2)\n",
        "\n",
        "print('\\nTest accuracy:', test_acc)"
      ],
      "execution_count": 226,
      "outputs": [
        {
          "output_type": "stream",
          "text": [
            "Epoch 1/20\n",
            "10/10 [==============================] - 0s 5ms/step - loss: 1.8377 - accuracy: 0.4033\n",
            "Epoch 2/20\n",
            "10/10 [==============================] - 0s 5ms/step - loss: 0.8178 - accuracy: 0.8433\n",
            "Epoch 3/20\n",
            "10/10 [==============================] - 0s 5ms/step - loss: 0.4495 - accuracy: 0.9367\n",
            "Epoch 4/20\n",
            "10/10 [==============================] - 0s 5ms/step - loss: 0.2635 - accuracy: 0.9667\n",
            "Epoch 5/20\n",
            "10/10 [==============================] - 0s 5ms/step - loss: 0.1523 - accuracy: 0.9967\n",
            "Epoch 6/20\n",
            "10/10 [==============================] - 0s 5ms/step - loss: 0.1001 - accuracy: 0.9967\n",
            "Epoch 7/20\n",
            "10/10 [==============================] - 0s 5ms/step - loss: 0.0685 - accuracy: 1.0000\n",
            "Epoch 8/20\n",
            "10/10 [==============================] - 0s 5ms/step - loss: 0.0503 - accuracy: 1.0000\n",
            "Epoch 9/20\n",
            "10/10 [==============================] - 0s 5ms/step - loss: 0.0382 - accuracy: 1.0000\n",
            "Epoch 10/20\n",
            "10/10 [==============================] - 0s 5ms/step - loss: 0.0312 - accuracy: 1.0000\n",
            "Epoch 11/20\n",
            "10/10 [==============================] - 0s 5ms/step - loss: 0.0256 - accuracy: 1.0000\n",
            "Epoch 12/20\n",
            "10/10 [==============================] - 0s 5ms/step - loss: 0.0218 - accuracy: 1.0000\n",
            "Epoch 13/20\n",
            "10/10 [==============================] - 0s 5ms/step - loss: 0.0185 - accuracy: 1.0000\n",
            "Epoch 14/20\n",
            "10/10 [==============================] - 0s 5ms/step - loss: 0.0160 - accuracy: 1.0000\n",
            "Epoch 15/20\n",
            "10/10 [==============================] - 0s 5ms/step - loss: 0.0145 - accuracy: 1.0000\n",
            "Epoch 16/20\n",
            "10/10 [==============================] - 0s 5ms/step - loss: 0.0122 - accuracy: 1.0000\n",
            "Epoch 17/20\n",
            "10/10 [==============================] - 0s 5ms/step - loss: 0.0110 - accuracy: 1.0000\n",
            "Epoch 18/20\n",
            "10/10 [==============================] - 0s 4ms/step - loss: 0.0098 - accuracy: 1.0000\n",
            "Epoch 19/20\n",
            "10/10 [==============================] - 0s 5ms/step - loss: 0.0087 - accuracy: 1.0000\n",
            "Epoch 20/20\n",
            "10/10 [==============================] - 0s 5ms/step - loss: 0.0080 - accuracy: 1.0000\n",
            "4/4 - 0s - loss: 0.7111 - accuracy: 0.8000\n",
            "\n",
            "Test accuracy: 0.800000011920929\n"
          ],
          "name": "stdout"
        }
      ]
    },
    {
      "cell_type": "code",
      "metadata": {
        "id": "1Ac9YXclbaye"
      },
      "source": [
        "yep ! the accuracy has gone up "
      ],
      "execution_count": null,
      "outputs": []
    }
  ]
}