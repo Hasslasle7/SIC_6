{
 "cells": [
  {
   "cell_type": "markdown",
   "metadata": {
    "id": "rjgrimodz8si"
   },
   "source": [
    "## Quiz #0501"
   ]
  },
  {
   "cell_type": "markdown",
   "metadata": {
    "id": "jKWQCplWz8sm"
   },
   "source": [
    "### \"Logistic Regression and Gradient Descent Algorithm\""
   ]
  },
  {
   "cell_type": "markdown",
   "metadata": {
    "id": "ii_vxXjRz8sp"
   },
   "source": [
    "#### Answer the following questions by providing Python code:\n",
    "#### Objectives:\n",
    "- Code a logistic regression class using only the NumPy library.\n",
    "- Implement in Python the Sigmoid function.\n",
    "- Implement in Python the Gradient of the logarithmic likelihood.\n",
    "- Implement in Python the Gradient Descent Algorithm."
   ]
  },
  {
   "cell_type": "code",
   "execution_count": 1,
   "metadata": {
    "id": "qPXzVLLez8ss"
   },
   "outputs": [],
   "source": [
    "import numpy as np\n",
    "import pandas as pd\n",
    "from sklearn.datasets import load_breast_cancer\n",
    "from sklearn.model_selection import train_test_split"
   ]
  },
  {
   "cell_type": "markdown",
   "metadata": {
    "id": "NfGrSwGhz8sv"
   },
   "source": [
    "#### Read in data:"
   ]
  },
  {
   "cell_type": "code",
   "execution_count": 2,
   "metadata": {
    "id": "5v7cO1Jez8sv"
   },
   "outputs": [],
   "source": [
    "# Load data.\n",
    "data = load_breast_cancer()\n",
    "# Explanatory variables.\n",
    "X = data['data']\n",
    "# Relabel such that 0 = 'benign' and 1 = malignant.\n",
    "Y = 1 - data['target']"
   ]
  },
  {
   "cell_type": "code",
   "execution_count": 3,
   "metadata": {
    "id": "RfwOovCoz8sw"
   },
   "outputs": [],
   "source": [
    "# Split the dataset into training and testing.\n",
    "X_train, X_test, Y_train, Y_test = train_test_split(X, Y, test_size=0.4, random_state=1234)"
   ]
  },
  {
   "cell_type": "markdown",
   "metadata": {
    "id": "18dR-OLBz8sy"
   },
   "source": [
    "1). Define the 'sigmoid' and 'gradient' functions to produce the output shown below:"
   ]
  },
  {
   "cell_type": "code",
   "execution_count": 9,
   "metadata": {
    "id": "yPOYE1H2z8sz"
   },
   "outputs": [],
   "source": [
    "def sigmoid(x):\n",
    "       return 1 / (1 + np.exp(-x))\n",
    "\n",
    "def gradient(X, Y, n_epochs, learning_rate):\n",
    "       \n",
    "        n_samples , n_features = X.shape\n",
    "        weights = np.zeros(n_features) #initializing the weights and the bias \n",
    "        bias = 0\n",
    "        for i in range(n_epochs):\n",
    "            lm = np.dot(X , weights)+ bias #linear model\n",
    "            y_predicted = sigmoid( lm )\n",
    "            dw = (1 / n_samples) * np.dot( X.T ,(y_predicted - Y))\n",
    "            db = (1 / n_samples) * np.sum(y_predicted - Y)\n",
    "            #updating the weights and the bias :\n",
    "            weights -= learning_rate * dw\n",
    "            bias -= learning_rate * db\n",
    "        return (weights,bias)"
   ]
  },
  {
   "cell_type": "markdown",
   "metadata": {
    "id": "fW8tGbtKz8s3"
   },
   "source": [
    "2). Define the 'LogisticRegression' class to produce the output shown below:"
   ]
  },
  {
   "cell_type": "code",
   "execution_count": 11,
   "metadata": {
    "id": "ZnWTClEYz8s4"
   },
   "outputs": [],
   "source": [
    "class LogisticRegression:\n",
    "    def __init__(self, learn_rate):\n",
    "        self.rate = learn_rate\n",
    "        self.n_nodes = None\n",
    "        self.beta = None\n",
    "        \n",
    "    def train(self, input_X, input_Y, n_epochs):\n",
    "        \n",
    "        # <Your code goes in here>\n",
    "        self.weights,self.bias=gradient(X, Y, n_epochs, self.rate)\n",
    "        \n",
    "\n",
    "    def query(self, input_X, cutoff=0.5):\n",
    "       # <Your code goes in here>\n",
    "        lm = np.dot(input_X,self.weights) + self.bias\n",
    "        y_predicted = sigmoid(lm)\n",
    "        y_predicted_classes = [1 if i>cutoff else 0 for i in y_predicted]\n",
    "        return y_predicted_classes \n",
    "             \n"
   ]
  },
  {
   "cell_type": "markdown",
   "metadata": {
    "id": "Q4LW6q4tz8s5"
   },
   "source": [
    "#### Sample run:"
   ]
  },
  {
   "cell_type": "code",
   "execution_count": 7,
   "metadata": {
    "id": "LF-BtAahz8s6"
   },
   "outputs": [],
   "source": [
    "# Hyperparameter for the learner.\n",
    "learning_rate = 0.001"
   ]
  },
  {
   "cell_type": "code",
   "execution_count": 24,
   "metadata": {
    "id": "qJKt4sffz8s7"
   },
   "outputs": [
    {
     "name": "stderr",
     "output_type": "stream",
     "text": [
      "<ipython-input-9-fb6c411c1baf>:2: RuntimeWarning: overflow encountered in exp\n",
      "  return 1 / (1 + np.exp(-x))\n"
     ]
    }
   ],
   "source": [
    "# Train and predict.\n",
    "LR = LogisticRegression(learning_rate)\n",
    "LR.train(X_train, Y_train, 2000)\n",
    "Y_pred = LR.query(X_test,cutoff=0.5)"
   ]
  },
  {
   "cell_type": "code",
   "execution_count": 26,
   "metadata": {
    "id": "gqZh9Tztz8s9"
   },
   "outputs": [
    {
     "data": {
      "text/plain": [
       "0.9078947368421053"
      ]
     },
     "execution_count": 26,
     "metadata": {},
     "output_type": "execute_result"
    }
   ],
   "source": [
    "from sklearn.metrics import accuracy_score\n",
    "accuracy_score(Y_test,Y_pred)"
   ]
  }
 ],
 "metadata": {
  "colab": {
   "name": "problem_0501.ipynb",
   "provenance": []
  },
  "kernelspec": {
   "display_name": "Python 3",
   "language": "python",
   "name": "python3"
  },
  "language_info": {
   "codemirror_mode": {
    "name": "ipython",
    "version": 3
   },
   "file_extension": ".py",
   "mimetype": "text/x-python",
   "name": "python",
   "nbconvert_exporter": "python",
   "pygments_lexer": "ipython3",
   "version": "3.8.8"
  }
 },
 "nbformat": 4,
 "nbformat_minor": 1
}
